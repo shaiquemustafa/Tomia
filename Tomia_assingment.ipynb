{
  "nbformat": 4,
  "nbformat_minor": 0,
  "metadata": {
    "colab": {
      "name": "Tomia_assingment.ipynb",
      "provenance": []
    },
    "kernelspec": {
      "name": "python3",
      "display_name": "Python 3"
    }
  },
  "cells": [
    {
      "cell_type": "code",
      "metadata": {
        "id": "0CmELR6-Ayz7",
        "colab_type": "code",
        "colab": {}
      },
      "source": [
        "import pandas as pd\n",
        "import numpy as np"
      ],
      "execution_count": 0,
      "outputs": []
    },
    {
      "cell_type": "code",
      "metadata": {
        "id": "duNWTgL3CBkw",
        "colab_type": "code",
        "colab": {}
      },
      "source": [
        "data = pd.read_excel(\"ICalls dataset (1).xlsx\")"
      ],
      "execution_count": 0,
      "outputs": []
    },
    {
      "cell_type": "code",
      "metadata": {
        "id": "GXo8slPxCLew",
        "colab_type": "code",
        "colab": {
          "base_uri": "https://localhost:8080/",
          "height": 309
        },
        "outputId": "425f09c6-be2b-4dde-d49b-8ee6ce7e2474"
      },
      "source": [
        "data.head()"
      ],
      "execution_count": 6,
      "outputs": [
        {
          "output_type": "execute_result",
          "data": {
            "text/html": [
              "<div>\n",
              "<style scoped>\n",
              "    .dataframe tbody tr th:only-of-type {\n",
              "        vertical-align: middle;\n",
              "    }\n",
              "\n",
              "    .dataframe tbody tr th {\n",
              "        vertical-align: top;\n",
              "    }\n",
              "\n",
              "    .dataframe thead th {\n",
              "        text-align: right;\n",
              "    }\n",
              "</style>\n",
              "<table border=\"1\" class=\"dataframe\">\n",
              "  <thead>\n",
              "    <tr style=\"text-align: right;\">\n",
              "      <th></th>\n",
              "      <th>CALL_ID</th>\n",
              "      <th>START_TIMESTAMP</th>\n",
              "      <th>CALL_DURATION_SEC</th>\n",
              "      <th>CALLING_NUMBER_NOR</th>\n",
              "      <th>CALLED_NUMBER_NOR</th>\n",
              "      <th>RELEASE_CALSE_ID</th>\n",
              "      <th>IN_SWITCH_ID</th>\n",
              "      <th>IN_TRUNK_ID</th>\n",
              "      <th>IN_ACCOUNT_ID</th>\n",
              "      <th>IN_SERVICE_LEVEL_ID</th>\n",
              "      <th>IN_SERVICE_ID</th>\n",
              "      <th>OUT_SWITCH_ID</th>\n",
              "      <th>OUT_TRUNK_ID</th>\n",
              "      <th>OUT_ACCOUNT_ID</th>\n",
              "      <th>OUT_SERVICE_LEVEL_ID</th>\n",
              "      <th>OUT_SERVICE_ID</th>\n",
              "      <th>ROUTING_CLASS_ID</th>\n",
              "      <th>ROUTING_DESTINATION_ID</th>\n",
              "      <th>ROUTING_COUNTRY_ID</th>\n",
              "      <th>ORIG_COUNTRY_ID</th>\n",
              "      <th>ANSWERED</th>\n",
              "      <th>COST</th>\n",
              "      <th>REVENUE</th>\n",
              "    </tr>\n",
              "  </thead>\n",
              "  <tbody>\n",
              "    <tr>\n",
              "      <th>0</th>\n",
              "      <td>1000284067810009984</td>\n",
              "      <td>2020-02-02 00:28:10</td>\n",
              "      <td>123</td>\n",
              "      <td>1.304815e+12</td>\n",
              "      <td>1063401614250</td>\n",
              "      <td>144</td>\n",
              "      <td>3</td>\n",
              "      <td>3814</td>\n",
              "      <td>381</td>\n",
              "      <td>8</td>\n",
              "      <td>1</td>\n",
              "      <td>3</td>\n",
              "      <td>2965</td>\n",
              "      <td>221</td>\n",
              "      <td>0</td>\n",
              "      <td>1</td>\n",
              "      <td>8</td>\n",
              "      <td>1067</td>\n",
              "      <td>146</td>\n",
              "      <td>241</td>\n",
              "      <td>1</td>\n",
              "      <td>0.681010</td>\n",
              "      <td>0.682035</td>\n",
              "    </tr>\n",
              "    <tr>\n",
              "      <th>1</th>\n",
              "      <td>1000284067810012912</td>\n",
              "      <td>2020-02-02 00:30:13</td>\n",
              "      <td>1</td>\n",
              "      <td>7.718661e+10</td>\n",
              "      <td>14589732215</td>\n",
              "      <td>144</td>\n",
              "      <td>3</td>\n",
              "      <td>3170</td>\n",
              "      <td>204</td>\n",
              "      <td>8</td>\n",
              "      <td>1</td>\n",
              "      <td>3</td>\n",
              "      <td>3829</td>\n",
              "      <td>190</td>\n",
              "      <td>0</td>\n",
              "      <td>1</td>\n",
              "      <td>8</td>\n",
              "      <td>272224</td>\n",
              "      <td>67</td>\n",
              "      <td>229</td>\n",
              "      <td>1</td>\n",
              "      <td>0.002583</td>\n",
              "      <td>0.002583</td>\n",
              "    </tr>\n",
              "    <tr>\n",
              "      <th>2</th>\n",
              "      <td>1000284067810009861</td>\n",
              "      <td>2020-02-02 00:09:18</td>\n",
              "      <td>33</td>\n",
              "      <td>2.239853e+12</td>\n",
              "      <td>2239769672380</td>\n",
              "      <td>144</td>\n",
              "      <td>3</td>\n",
              "      <td>3170</td>\n",
              "      <td>204</td>\n",
              "      <td>3</td>\n",
              "      <td>1</td>\n",
              "      <td>3</td>\n",
              "      <td>3021</td>\n",
              "      <td>130</td>\n",
              "      <td>0</td>\n",
              "      <td>1</td>\n",
              "      <td>4</td>\n",
              "      <td>1798</td>\n",
              "      <td>228</td>\n",
              "      <td>228</td>\n",
              "      <td>1</td>\n",
              "      <td>0.003025</td>\n",
              "      <td>0.003025</td>\n",
              "    </tr>\n",
              "    <tr>\n",
              "      <th>3</th>\n",
              "      <td>1000284067810012939</td>\n",
              "      <td>2020-02-02 00:29:47</td>\n",
              "      <td>43</td>\n",
              "      <td>2.457868e+13</td>\n",
              "      <td>24578661100030</td>\n",
              "      <td>144</td>\n",
              "      <td>3</td>\n",
              "      <td>3617</td>\n",
              "      <td>249</td>\n",
              "      <td>2</td>\n",
              "      <td>1</td>\n",
              "      <td>3</td>\n",
              "      <td>2897</td>\n",
              "      <td>256</td>\n",
              "      <td>0</td>\n",
              "      <td>1</td>\n",
              "      <td>2</td>\n",
              "      <td>540</td>\n",
              "      <td>80</td>\n",
              "      <td>80</td>\n",
              "      <td>1</td>\n",
              "      <td>0.007102</td>\n",
              "      <td>0.000000</td>\n",
              "    </tr>\n",
              "    <tr>\n",
              "      <th>4</th>\n",
              "      <td>1000284067810012946</td>\n",
              "      <td>2020-02-02 00:28:51</td>\n",
              "      <td>101</td>\n",
              "      <td>1.966744e+12</td>\n",
              "      <td>2238910138380</td>\n",
              "      <td>144</td>\n",
              "      <td>3</td>\n",
              "      <td>1353</td>\n",
              "      <td>234</td>\n",
              "      <td>2</td>\n",
              "      <td>1</td>\n",
              "      <td>3</td>\n",
              "      <td>3755</td>\n",
              "      <td>370</td>\n",
              "      <td>0</td>\n",
              "      <td>1</td>\n",
              "      <td>2</td>\n",
              "      <td>1778</td>\n",
              "      <td>228</td>\n",
              "      <td>107</td>\n",
              "      <td>1</td>\n",
              "      <td>0.013467</td>\n",
              "      <td>0.012120</td>\n",
              "    </tr>\n",
              "  </tbody>\n",
              "</table>\n",
              "</div>"
            ],
            "text/plain": [
              "               CALL_ID     START_TIMESTAMP  ...      COST   REVENUE\n",
              "0  1000284067810009984 2020-02-02 00:28:10  ...  0.681010  0.682035\n",
              "1  1000284067810012912 2020-02-02 00:30:13  ...  0.002583  0.002583\n",
              "2  1000284067810009861 2020-02-02 00:09:18  ...  0.003025  0.003025\n",
              "3  1000284067810012939 2020-02-02 00:29:47  ...  0.007102  0.000000\n",
              "4  1000284067810012946 2020-02-02 00:28:51  ...  0.013467  0.012120\n",
              "\n",
              "[5 rows x 23 columns]"
            ]
          },
          "metadata": {
            "tags": []
          },
          "execution_count": 6
        }
      ]
    },
    {
      "cell_type": "code",
      "metadata": {
        "id": "iyanB5YmCbjy",
        "colab_type": "code",
        "colab": {
          "base_uri": "https://localhost:8080/",
          "height": 34
        },
        "outputId": "f1d5eb86-e5f1-4ec7-a38f-8f3bab39c107"
      },
      "source": [
        "data.START_TIMESTAMP.max()"
      ],
      "execution_count": 13,
      "outputs": [
        {
          "output_type": "execute_result",
          "data": {
            "text/plain": [
              "Timestamp('2020-02-02 04:59:59')"
            ]
          },
          "metadata": {
            "tags": []
          },
          "execution_count": 13
        }
      ]
    },
    {
      "cell_type": "code",
      "metadata": {
        "id": "WYAZYpLdPjMf",
        "colab_type": "code",
        "colab": {}
      },
      "source": [
        "#dropping START_TIMESTAMP\n",
        "data.drop(\"START_TIMESTAMP\",inplace=True,axis=1)"
      ],
      "execution_count": 0,
      "outputs": []
    },
    {
      "cell_type": "code",
      "metadata": {
        "id": "Jv94nZ46QhVS",
        "colab_type": "code",
        "colab": {
          "base_uri": "https://localhost:8080/",
          "height": 224
        },
        "outputId": "3c1162f3-6f16-46ed-a85e-e96828677f81"
      },
      "source": [
        "data.head()"
      ],
      "execution_count": 16,
      "outputs": [
        {
          "output_type": "execute_result",
          "data": {
            "text/html": [
              "<div>\n",
              "<style scoped>\n",
              "    .dataframe tbody tr th:only-of-type {\n",
              "        vertical-align: middle;\n",
              "    }\n",
              "\n",
              "    .dataframe tbody tr th {\n",
              "        vertical-align: top;\n",
              "    }\n",
              "\n",
              "    .dataframe thead th {\n",
              "        text-align: right;\n",
              "    }\n",
              "</style>\n",
              "<table border=\"1\" class=\"dataframe\">\n",
              "  <thead>\n",
              "    <tr style=\"text-align: right;\">\n",
              "      <th></th>\n",
              "      <th>CALL_ID</th>\n",
              "      <th>CALL_DURATION_SEC</th>\n",
              "      <th>CALLING_NUMBER_NOR</th>\n",
              "      <th>CALLED_NUMBER_NOR</th>\n",
              "      <th>RELEASE_CALSE_ID</th>\n",
              "      <th>IN_SWITCH_ID</th>\n",
              "      <th>IN_TRUNK_ID</th>\n",
              "      <th>IN_ACCOUNT_ID</th>\n",
              "      <th>IN_SERVICE_LEVEL_ID</th>\n",
              "      <th>IN_SERVICE_ID</th>\n",
              "      <th>OUT_SWITCH_ID</th>\n",
              "      <th>OUT_TRUNK_ID</th>\n",
              "      <th>OUT_ACCOUNT_ID</th>\n",
              "      <th>OUT_SERVICE_LEVEL_ID</th>\n",
              "      <th>OUT_SERVICE_ID</th>\n",
              "      <th>ROUTING_CLASS_ID</th>\n",
              "      <th>ROUTING_DESTINATION_ID</th>\n",
              "      <th>ROUTING_COUNTRY_ID</th>\n",
              "      <th>ORIG_COUNTRY_ID</th>\n",
              "      <th>ANSWERED</th>\n",
              "      <th>COST</th>\n",
              "      <th>REVENUE</th>\n",
              "    </tr>\n",
              "  </thead>\n",
              "  <tbody>\n",
              "    <tr>\n",
              "      <th>0</th>\n",
              "      <td>1000284067810009984</td>\n",
              "      <td>123</td>\n",
              "      <td>1.304815e+12</td>\n",
              "      <td>1063401614250</td>\n",
              "      <td>144</td>\n",
              "      <td>3</td>\n",
              "      <td>3814</td>\n",
              "      <td>381</td>\n",
              "      <td>8</td>\n",
              "      <td>1</td>\n",
              "      <td>3</td>\n",
              "      <td>2965</td>\n",
              "      <td>221</td>\n",
              "      <td>0</td>\n",
              "      <td>1</td>\n",
              "      <td>8</td>\n",
              "      <td>1067</td>\n",
              "      <td>146</td>\n",
              "      <td>241</td>\n",
              "      <td>1</td>\n",
              "      <td>0.681010</td>\n",
              "      <td>0.682035</td>\n",
              "    </tr>\n",
              "    <tr>\n",
              "      <th>1</th>\n",
              "      <td>1000284067810012912</td>\n",
              "      <td>1</td>\n",
              "      <td>7.718661e+10</td>\n",
              "      <td>14589732215</td>\n",
              "      <td>144</td>\n",
              "      <td>3</td>\n",
              "      <td>3170</td>\n",
              "      <td>204</td>\n",
              "      <td>8</td>\n",
              "      <td>1</td>\n",
              "      <td>3</td>\n",
              "      <td>3829</td>\n",
              "      <td>190</td>\n",
              "      <td>0</td>\n",
              "      <td>1</td>\n",
              "      <td>8</td>\n",
              "      <td>272224</td>\n",
              "      <td>67</td>\n",
              "      <td>229</td>\n",
              "      <td>1</td>\n",
              "      <td>0.002583</td>\n",
              "      <td>0.002583</td>\n",
              "    </tr>\n",
              "    <tr>\n",
              "      <th>2</th>\n",
              "      <td>1000284067810009861</td>\n",
              "      <td>33</td>\n",
              "      <td>2.239853e+12</td>\n",
              "      <td>2239769672380</td>\n",
              "      <td>144</td>\n",
              "      <td>3</td>\n",
              "      <td>3170</td>\n",
              "      <td>204</td>\n",
              "      <td>3</td>\n",
              "      <td>1</td>\n",
              "      <td>3</td>\n",
              "      <td>3021</td>\n",
              "      <td>130</td>\n",
              "      <td>0</td>\n",
              "      <td>1</td>\n",
              "      <td>4</td>\n",
              "      <td>1798</td>\n",
              "      <td>228</td>\n",
              "      <td>228</td>\n",
              "      <td>1</td>\n",
              "      <td>0.003025</td>\n",
              "      <td>0.003025</td>\n",
              "    </tr>\n",
              "    <tr>\n",
              "      <th>3</th>\n",
              "      <td>1000284067810012939</td>\n",
              "      <td>43</td>\n",
              "      <td>2.457868e+13</td>\n",
              "      <td>24578661100030</td>\n",
              "      <td>144</td>\n",
              "      <td>3</td>\n",
              "      <td>3617</td>\n",
              "      <td>249</td>\n",
              "      <td>2</td>\n",
              "      <td>1</td>\n",
              "      <td>3</td>\n",
              "      <td>2897</td>\n",
              "      <td>256</td>\n",
              "      <td>0</td>\n",
              "      <td>1</td>\n",
              "      <td>2</td>\n",
              "      <td>540</td>\n",
              "      <td>80</td>\n",
              "      <td>80</td>\n",
              "      <td>1</td>\n",
              "      <td>0.007102</td>\n",
              "      <td>0.000000</td>\n",
              "    </tr>\n",
              "    <tr>\n",
              "      <th>4</th>\n",
              "      <td>1000284067810012946</td>\n",
              "      <td>101</td>\n",
              "      <td>1.966744e+12</td>\n",
              "      <td>2238910138380</td>\n",
              "      <td>144</td>\n",
              "      <td>3</td>\n",
              "      <td>1353</td>\n",
              "      <td>234</td>\n",
              "      <td>2</td>\n",
              "      <td>1</td>\n",
              "      <td>3</td>\n",
              "      <td>3755</td>\n",
              "      <td>370</td>\n",
              "      <td>0</td>\n",
              "      <td>1</td>\n",
              "      <td>2</td>\n",
              "      <td>1778</td>\n",
              "      <td>228</td>\n",
              "      <td>107</td>\n",
              "      <td>1</td>\n",
              "      <td>0.013467</td>\n",
              "      <td>0.012120</td>\n",
              "    </tr>\n",
              "  </tbody>\n",
              "</table>\n",
              "</div>"
            ],
            "text/plain": [
              "               CALL_ID  CALL_DURATION_SEC  ...      COST   REVENUE\n",
              "0  1000284067810009984                123  ...  0.681010  0.682035\n",
              "1  1000284067810012912                  1  ...  0.002583  0.002583\n",
              "2  1000284067810009861                 33  ...  0.003025  0.003025\n",
              "3  1000284067810012939                 43  ...  0.007102  0.000000\n",
              "4  1000284067810012946                101  ...  0.013467  0.012120\n",
              "\n",
              "[5 rows x 22 columns]"
            ]
          },
          "metadata": {
            "tags": []
          },
          "execution_count": 16
        }
      ]
    },
    {
      "cell_type": "code",
      "metadata": {
        "id": "lPDacp2mQxtq",
        "colab_type": "code",
        "colab": {}
      },
      "source": [
        "!pip install pyod"
      ],
      "execution_count": 0,
      "outputs": []
    },
    {
      "cell_type": "code",
      "metadata": {
        "id": "hOwJIv2cQmVc",
        "colab_type": "code",
        "colab": {}
      },
      "source": [
        "from pyod.models.abod import ABOD\n",
        "from pyod.models.cblof import CBLOF\n",
        "from pyod.models.feature_bagging import FeatureBagging\n",
        "from pyod.models.hbos import HBOS\n",
        "from pyod.models.iforest import IForest\n",
        "from pyod.models.knn import KNN\n",
        "from pyod.models.lof import LOF\n",
        "import numpy as np\n",
        "from scipy import stats\n",
        "import matplotlib.pyplot as plt\n",
        "%matplotlib inline\n",
        "import matplotlib.font_manager\n"
      ],
      "execution_count": 0,
      "outputs": []
    },
    {
      "cell_type": "code",
      "metadata": {
        "id": "AVjoMbRTRFbB",
        "colab_type": "code",
        "colab": {}
      },
      "source": [
        "col_list = list(data.columns)\n",
        "col_list.remove(\"REVENUE\")"
      ],
      "execution_count": 0,
      "outputs": []
    },
    {
      "cell_type": "code",
      "metadata": {
        "id": "preCZ3lXRydE",
        "colab_type": "code",
        "colab": {}
      },
      "source": [
        "#lets look at any two columns to check for how anamolies are looking in the data"
      ],
      "execution_count": 0,
      "outputs": []
    },
    {
      "cell_type": "code",
      "metadata": {
        "id": "FiAxoUl8QvbQ",
        "colab_type": "code",
        "colab": {
          "base_uri": "https://localhost:8080/",
          "height": 297
        },
        "outputId": "9ba0caf6-ccc5-4546-8ed4-09b68058e587"
      },
      "source": [
        "data.plot.scatter(\"CALL_DURATION_SEC\",\"REVENUE\")"
      ],
      "execution_count": 26,
      "outputs": [
        {
          "output_type": "execute_result",
          "data": {
            "text/plain": [
              "<matplotlib.axes._subplots.AxesSubplot at 0x7f5c274ce438>"
            ]
          },
          "metadata": {
            "tags": []
          },
          "execution_count": 26
        },
        {
          "output_type": "display_data",
          "data": {
            "image/png": "[encoded data removed]",
            "text/plain": [
              "<Figure size 432x288 with 1 Axes>"
            ]
          },
          "metadata": {
            "tags": [],
            "needs_background": "light"
          }
        }
      ]
    },
    {
      "cell_type": "code",
      "metadata": {
        "id": "KckzpisTRN9n",
        "colab_type": "code",
        "colab": {}
      },
      "source": [
        "#We can clearly see there difenetly anamolies in the data,Right now we are just looking at two variables,we can letron extend it for all the variables"
      ],
      "execution_count": 0,
      "outputs": []
    },
    {
      "cell_type": "code",
      "metadata": {
        "id": "M_UpVQvIWl7p",
        "colab_type": "code",
        "colab": {}
      },
      "source": [
        "#we will transform the data to one scale for our exercise going forward"
      ],
      "execution_count": 0,
      "outputs": []
    },
    {
      "cell_type": "code",
      "metadata": {
        "id": "07Zv4Jq7TJUN",
        "colab_type": "code",
        "colab": {}
      },
      "source": [
        "from sklearn import preprocessing\n",
        "minmax_scale = preprocessing.MinMaxScaler().fit(data) \n",
        "data_minmax = minmax_scale.transform(data)"
      ],
      "execution_count": 0,
      "outputs": []
    },
    {
      "cell_type": "code",
      "metadata": {
        "id": "6drAjZ0qUuqZ",
        "colab_type": "code",
        "colab": {}
      },
      "source": [
        "col_list = list(data.columns)\n",
        "new_data = pd.DataFrame()\n",
        "for i in range(len(col_list)):\n",
        "  new_data[col_list[i]] = data_minmax[:,i]"
      ],
      "execution_count": 0,
      "outputs": []
    },
    {
      "cell_type": "code",
      "metadata": {
        "id": "b7loBe6nWElg",
        "colab_type": "code",
        "colab": {
          "base_uri": "https://localhost:8080/",
          "height": 309
        },
        "outputId": "92fda1b7-afed-4a93-ee5d-92a6f4e5ab1f"
      },
      "source": [
        "new_data.head()"
      ],
      "execution_count": 53,
      "outputs": [
        {
          "output_type": "execute_result",
          "data": {
            "text/html": [
              "<div>\n",
              "<style scoped>\n",
              "    .dataframe tbody tr th:only-of-type {\n",
              "        vertical-align: middle;\n",
              "    }\n",
              "\n",
              "    .dataframe tbody tr th {\n",
              "        vertical-align: top;\n",
              "    }\n",
              "\n",
              "    .dataframe thead th {\n",
              "        text-align: right;\n",
              "    }\n",
              "</style>\n",
              "<table border=\"1\" class=\"dataframe\">\n",
              "  <thead>\n",
              "    <tr style=\"text-align: right;\">\n",
              "      <th></th>\n",
              "      <th>CALL_ID</th>\n",
              "      <th>CALL_DURATION_SEC</th>\n",
              "      <th>CALLING_NUMBER_NOR</th>\n",
              "      <th>CALLED_NUMBER_NOR</th>\n",
              "      <th>RELEASE_CALSE_ID</th>\n",
              "      <th>IN_SWITCH_ID</th>\n",
              "      <th>IN_TRUNK_ID</th>\n",
              "      <th>IN_ACCOUNT_ID</th>\n",
              "      <th>IN_SERVICE_LEVEL_ID</th>\n",
              "      <th>IN_SERVICE_ID</th>\n",
              "      <th>OUT_SWITCH_ID</th>\n",
              "      <th>OUT_TRUNK_ID</th>\n",
              "      <th>OUT_ACCOUNT_ID</th>\n",
              "      <th>OUT_SERVICE_LEVEL_ID</th>\n",
              "      <th>OUT_SERVICE_ID</th>\n",
              "      <th>ROUTING_CLASS_ID</th>\n",
              "      <th>ROUTING_DESTINATION_ID</th>\n",
              "      <th>ROUTING_COUNTRY_ID</th>\n",
              "      <th>ORIG_COUNTRY_ID</th>\n",
              "      <th>ANSWERED</th>\n",
              "      <th>COST</th>\n",
              "      <th>REVENUE</th>\n",
              "    </tr>\n",
              "  </thead>\n",
              "  <tbody>\n",
              "    <tr>\n",
              "      <th>0</th>\n",
              "      <td>5.960464e-08</td>\n",
              "      <td>0.013651</td>\n",
              "      <td>2.748050e-07</td>\n",
              "      <td>6.509159e-08</td>\n",
              "      <td>0.5375</td>\n",
              "      <td>0.0</td>\n",
              "      <td>0.962716</td>\n",
              "      <td>0.950166</td>\n",
              "      <td>1.000</td>\n",
              "      <td>0.0</td>\n",
              "      <td>0.0</td>\n",
              "      <td>0.726691</td>\n",
              "      <td>0.420530</td>\n",
              "      <td>0.0</td>\n",
              "      <td>1.0</td>\n",
              "      <td>1.00</td>\n",
              "      <td>0.002202</td>\n",
              "      <td>0.517986</td>\n",
              "      <td>0.860714</td>\n",
              "      <td>1.0</td>\n",
              "      <td>0.041042</td>\n",
              "      <td>0.039375</td>\n",
              "    </tr>\n",
              "    <tr>\n",
              "      <th>1</th>\n",
              "      <td>1.713634e-07</td>\n",
              "      <td>0.000111</td>\n",
              "      <td>1.625615e-08</td>\n",
              "      <td>8.928997e-10</td>\n",
              "      <td>0.5375</td>\n",
              "      <td>0.0</td>\n",
              "      <td>0.783528</td>\n",
              "      <td>0.362126</td>\n",
              "      <td>1.000</td>\n",
              "      <td>0.0</td>\n",
              "      <td>0.0</td>\n",
              "      <td>0.967158</td>\n",
              "      <td>0.317881</td>\n",
              "      <td>0.0</td>\n",
              "      <td>1.0</td>\n",
              "      <td>1.00</td>\n",
              "      <td>0.562821</td>\n",
              "      <td>0.233813</td>\n",
              "      <td>0.817857</td>\n",
              "      <td>1.0</td>\n",
              "      <td>0.000156</td>\n",
              "      <td>0.000149</td>\n",
              "    </tr>\n",
              "    <tr>\n",
              "      <th>2</th>\n",
              "      <td>5.960464e-08</td>\n",
              "      <td>0.003663</td>\n",
              "      <td>4.717319e-07</td>\n",
              "      <td>1.370981e-07</td>\n",
              "      <td>0.5375</td>\n",
              "      <td>0.0</td>\n",
              "      <td>0.783528</td>\n",
              "      <td>0.362126</td>\n",
              "      <td>0.375</td>\n",
              "      <td>0.0</td>\n",
              "      <td>0.0</td>\n",
              "      <td>0.742277</td>\n",
              "      <td>0.119205</td>\n",
              "      <td>0.0</td>\n",
              "      <td>1.0</td>\n",
              "      <td>0.50</td>\n",
              "      <td>0.003713</td>\n",
              "      <td>0.812950</td>\n",
              "      <td>0.814286</td>\n",
              "      <td>1.0</td>\n",
              "      <td>0.000182</td>\n",
              "      <td>0.000175</td>\n",
              "    </tr>\n",
              "    <tr>\n",
              "      <th>3</th>\n",
              "      <td>1.713634e-07</td>\n",
              "      <td>0.004772</td>\n",
              "      <td>5.176477e-06</td>\n",
              "      <td>1.504481e-06</td>\n",
              "      <td>0.5375</td>\n",
              "      <td>0.0</td>\n",
              "      <td>0.907902</td>\n",
              "      <td>0.511628</td>\n",
              "      <td>0.250</td>\n",
              "      <td>0.0</td>\n",
              "      <td>0.0</td>\n",
              "      <td>0.707765</td>\n",
              "      <td>0.536424</td>\n",
              "      <td>0.0</td>\n",
              "      <td>1.0</td>\n",
              "      <td>0.25</td>\n",
              "      <td>0.001112</td>\n",
              "      <td>0.280576</td>\n",
              "      <td>0.285714</td>\n",
              "      <td>1.0</td>\n",
              "      <td>0.000428</td>\n",
              "      <td>0.000000</td>\n",
              "    </tr>\n",
              "    <tr>\n",
              "      <th>4</th>\n",
              "      <td>1.713634e-07</td>\n",
              "      <td>0.011210</td>\n",
              "      <td>4.142128e-07</td>\n",
              "      <td>1.370455e-07</td>\n",
              "      <td>0.5375</td>\n",
              "      <td>0.0</td>\n",
              "      <td>0.277963</td>\n",
              "      <td>0.461794</td>\n",
              "      <td>0.250</td>\n",
              "      <td>0.0</td>\n",
              "      <td>0.0</td>\n",
              "      <td>0.946563</td>\n",
              "      <td>0.913907</td>\n",
              "      <td>0.0</td>\n",
              "      <td>1.0</td>\n",
              "      <td>0.25</td>\n",
              "      <td>0.003672</td>\n",
              "      <td>0.812950</td>\n",
              "      <td>0.382143</td>\n",
              "      <td>1.0</td>\n",
              "      <td>0.000812</td>\n",
              "      <td>0.000700</td>\n",
              "    </tr>\n",
              "  </tbody>\n",
              "</table>\n",
              "</div>"
            ],
            "text/plain": [
              "        CALL_ID  CALL_DURATION_SEC  ...      COST   REVENUE\n",
              "0  5.960464e-08           0.013651  ...  0.041042  0.039375\n",
              "1  1.713634e-07           0.000111  ...  0.000156  0.000149\n",
              "2  5.960464e-08           0.003663  ...  0.000182  0.000175\n",
              "3  1.713634e-07           0.004772  ...  0.000428  0.000000\n",
              "4  1.713634e-07           0.011210  ...  0.000812  0.000700\n",
              "\n",
              "[5 rows x 22 columns]"
            ]
          },
          "metadata": {
            "tags": []
          },
          "execution_count": 53
        }
      ]
    },
    {
      "cell_type": "code",
      "metadata": {
        "id": "qSQyrCAbUR42",
        "colab_type": "code",
        "colab": {}
      },
      "source": [
        "new_data.fillna(0,inplace=True)"
      ],
      "execution_count": 0,
      "outputs": []
    },
    {
      "cell_type": "code",
      "metadata": {
        "id": "kQ870DaCW89b",
        "colab_type": "code",
        "colab": {}
      },
      "source": [
        "#'Angle-based Outlier Detector (ABOD)\n",
        "#Cluster-based Local Outlier Factor (CBLOF)\n",
        "#Histogram-base Outlier Detection (HBOS)\n",
        "#K Nearest Neighbors (KNN)\n",
        "random_state = np.random.RandomState(42)\n",
        "outliers_fraction = 0.05\n",
        "# Define seven outlier detection tools to be compared\n",
        "classifiers = {\n",
        "        'ABOD': ABOD(contamination=outliers_fraction),\n",
        "        'CBLOF_':CBLOF(contamination=outliers_fraction,check_estimator=False, random_state=random_state),\n",
        "        'Feature_Bagging':FeatureBagging(LOF(n_neighbors=35),contamination=outliers_fraction,check_estimator=False,random_state=random_state),\n",
        "        'HBOS': HBOS(contamination=outliers_fraction),\n",
        "        'Isolation_Forest': IForest(contamination=outliers_fraction,random_state=random_state),\n",
        "        'KNN': KNN(contamination=outliers_fraction),\n",
        "        'Average_KNN': KNN(method='mean',contamination=outliers_fraction)\n",
        "}"
      ],
      "execution_count": 0,
      "outputs": []
    },
    {
      "cell_type": "code",
      "metadata": {
        "id": "N6w9dKNUpS0d",
        "colab_type": "code",
        "colab": {}
      },
      "source": [
        ""
      ],
      "execution_count": 0,
      "outputs": []
    },
    {
      "cell_type": "code",
      "metadata": {
        "id": "mhntL7yziy34",
        "colab_type": "code",
        "colab": {}
      },
      "source": [
        "df = pd.DataFrame()\n",
        "for i, (clf_name, clf) in enumerate(classifiers.items()):\n",
        "    clf.fit(new_data)\n",
        "    # predict raw anomaly score\n",
        "    scores_pred = clf.decision_function(new_data) * -1\n",
        "        \n",
        "    # prediction of a datapoint category outlier or inlier\n",
        "    \n",
        "    \n",
        "    df[str(clf_name)+'outlier'+\"score\"] = scores_pred.tolist()\n",
        "    \n",
        "   "
      ],
      "execution_count": 0,
      "outputs": []
    },
    {
      "cell_type": "code",
      "metadata": {
        "id": "YbJehoNlo7j3",
        "colab_type": "code",
        "colab": {
          "base_uri": "https://localhost:8080/",
          "height": 204
        },
        "outputId": "99affb71-c494-41c3-8a7a-603789fe30af"
      },
      "source": [
        "df.head()"
      ],
      "execution_count": 98,
      "outputs": [
        {
          "output_type": "execute_result",
          "data": {
            "text/html": [
              "<div>\n",
              "<style scoped>\n",
              "    .dataframe tbody tr th:only-of-type {\n",
              "        vertical-align: middle;\n",
              "    }\n",
              "\n",
              "    .dataframe tbody tr th {\n",
              "        vertical-align: top;\n",
              "    }\n",
              "\n",
              "    .dataframe thead th {\n",
              "        text-align: right;\n",
              "    }\n",
              "</style>\n",
              "<table border=\"1\" class=\"dataframe\">\n",
              "  <thead>\n",
              "    <tr style=\"text-align: right;\">\n",
              "      <th></th>\n",
              "      <th>ABODoutlierscore</th>\n",
              "      <th>CBLOF_outlierscore</th>\n",
              "      <th>Feature_Baggingoutlierscore</th>\n",
              "      <th>HBOSoutlierscore</th>\n",
              "    </tr>\n",
              "  </thead>\n",
              "  <tbody>\n",
              "    <tr>\n",
              "      <th>0</th>\n",
              "      <td>3.737819e+08</td>\n",
              "      <td>-3.010260</td>\n",
              "      <td>-5.449300</td>\n",
              "      <td>45.640886</td>\n",
              "    </tr>\n",
              "    <tr>\n",
              "      <th>1</th>\n",
              "      <td>2.162196e+26</td>\n",
              "      <td>-2.965015</td>\n",
              "      <td>-24644.261342</td>\n",
              "      <td>35.505899</td>\n",
              "    </tr>\n",
              "    <tr>\n",
              "      <th>2</th>\n",
              "      <td>1.388748e+12</td>\n",
              "      <td>-2.892670</td>\n",
              "      <td>-1.378142</td>\n",
              "      <td>33.313241</td>\n",
              "    </tr>\n",
              "    <tr>\n",
              "      <th>3</th>\n",
              "      <td>1.633505e+11</td>\n",
              "      <td>-2.715858</td>\n",
              "      <td>-1.826516</td>\n",
              "      <td>38.394626</td>\n",
              "    </tr>\n",
              "    <tr>\n",
              "      <th>4</th>\n",
              "      <td>7.579847e+12</td>\n",
              "      <td>-2.750907</td>\n",
              "      <td>-1.379551</td>\n",
              "      <td>38.332642</td>\n",
              "    </tr>\n",
              "  </tbody>\n",
              "</table>\n",
              "</div>"
            ],
            "text/plain": [
              "   ABODoutlierscore  ...  HBOSoutlierscore\n",
              "0      3.737819e+08  ...         45.640886\n",
              "1      2.162196e+26  ...         35.505899\n",
              "2      1.388748e+12  ...         33.313241\n",
              "3      1.633505e+11  ...         38.394626\n",
              "4      7.579847e+12  ...         38.332642\n",
              "\n",
              "[5 rows x 4 columns]"
            ]
          },
          "metadata": {
            "tags": []
          },
          "execution_count": 98
        }
      ]
    },
    {
      "cell_type": "code",
      "metadata": {
        "id": "BG13Q1Tt0EQh",
        "colab_type": "code",
        "colab": {}
      },
      "source": [
        "#merging the score with the original data"
      ],
      "execution_count": 0,
      "outputs": []
    },
    {
      "cell_type": "code",
      "metadata": {
        "id": "ATWFkIBd0MCg",
        "colab_type": "code",
        "colab": {}
      },
      "source": [
        "data[\"ABODoutlierscore\"]= df[\"ABODoutlierscore\"]\n",
        "data[\"CBLOF_outlierscore\"]= df[\"CBLOF_outlierscore\"]\n",
        "data[\"Feature_Baggingoutlierscore\"]= df[\"Feature_Baggingoutlierscore\"]\n",
        "data[\"HBOSoutlierscore\"]= df[\"HBOSoutlierscore\"]"
      ],
      "execution_count": 0,
      "outputs": []
    },
    {
      "cell_type": "code",
      "metadata": {
        "id": "L94aauKg0ebt",
        "colab_type": "code",
        "colab": {
          "base_uri": "https://localhost:8080/",
          "height": 224
        },
        "outputId": "f134d74d-c710-41f1-f9dc-d83b50314ef9"
      },
      "source": [
        "data.head()"
      ],
      "execution_count": 101,
      "outputs": [
        {
          "output_type": "execute_result",
          "data": {
            "text/html": [
              "<div>\n",
              "<style scoped>\n",
              "    .dataframe tbody tr th:only-of-type {\n",
              "        vertical-align: middle;\n",
              "    }\n",
              "\n",
              "    .dataframe tbody tr th {\n",
              "        vertical-align: top;\n",
              "    }\n",
              "\n",
              "    .dataframe thead th {\n",
              "        text-align: right;\n",
              "    }\n",
              "</style>\n",
              "<table border=\"1\" class=\"dataframe\">\n",
              "  <thead>\n",
              "    <tr style=\"text-align: right;\">\n",
              "      <th></th>\n",
              "      <th>CALL_ID</th>\n",
              "      <th>CALL_DURATION_SEC</th>\n",
              "      <th>CALLING_NUMBER_NOR</th>\n",
              "      <th>CALLED_NUMBER_NOR</th>\n",
              "      <th>RELEASE_CALSE_ID</th>\n",
              "      <th>IN_SWITCH_ID</th>\n",
              "      <th>IN_TRUNK_ID</th>\n",
              "      <th>IN_ACCOUNT_ID</th>\n",
              "      <th>IN_SERVICE_LEVEL_ID</th>\n",
              "      <th>IN_SERVICE_ID</th>\n",
              "      <th>OUT_SWITCH_ID</th>\n",
              "      <th>OUT_TRUNK_ID</th>\n",
              "      <th>OUT_ACCOUNT_ID</th>\n",
              "      <th>OUT_SERVICE_LEVEL_ID</th>\n",
              "      <th>OUT_SERVICE_ID</th>\n",
              "      <th>ROUTING_CLASS_ID</th>\n",
              "      <th>ROUTING_DESTINATION_ID</th>\n",
              "      <th>ROUTING_COUNTRY_ID</th>\n",
              "      <th>ORIG_COUNTRY_ID</th>\n",
              "      <th>ANSWERED</th>\n",
              "      <th>COST</th>\n",
              "      <th>REVENUE</th>\n",
              "      <th>ABODoutlierscore</th>\n",
              "      <th>CBLOF_outlierscore</th>\n",
              "      <th>Feature_Baggingoutlierscore</th>\n",
              "      <th>HBOSoutlierscore</th>\n",
              "    </tr>\n",
              "  </thead>\n",
              "  <tbody>\n",
              "    <tr>\n",
              "      <th>0</th>\n",
              "      <td>1000284067810009984</td>\n",
              "      <td>123</td>\n",
              "      <td>1.304815e+12</td>\n",
              "      <td>1063401614250</td>\n",
              "      <td>144</td>\n",
              "      <td>3</td>\n",
              "      <td>3814</td>\n",
              "      <td>381</td>\n",
              "      <td>8</td>\n",
              "      <td>1</td>\n",
              "      <td>3</td>\n",
              "      <td>2965</td>\n",
              "      <td>221</td>\n",
              "      <td>0</td>\n",
              "      <td>1</td>\n",
              "      <td>8</td>\n",
              "      <td>1067</td>\n",
              "      <td>146</td>\n",
              "      <td>241</td>\n",
              "      <td>1</td>\n",
              "      <td>0.681010</td>\n",
              "      <td>0.682035</td>\n",
              "      <td>3.737819e+08</td>\n",
              "      <td>-3.010260</td>\n",
              "      <td>-5.449300</td>\n",
              "      <td>45.640886</td>\n",
              "    </tr>\n",
              "    <tr>\n",
              "      <th>1</th>\n",
              "      <td>1000284067810012912</td>\n",
              "      <td>1</td>\n",
              "      <td>7.718661e+10</td>\n",
              "      <td>14589732215</td>\n",
              "      <td>144</td>\n",
              "      <td>3</td>\n",
              "      <td>3170</td>\n",
              "      <td>204</td>\n",
              "      <td>8</td>\n",
              "      <td>1</td>\n",
              "      <td>3</td>\n",
              "      <td>3829</td>\n",
              "      <td>190</td>\n",
              "      <td>0</td>\n",
              "      <td>1</td>\n",
              "      <td>8</td>\n",
              "      <td>272224</td>\n",
              "      <td>67</td>\n",
              "      <td>229</td>\n",
              "      <td>1</td>\n",
              "      <td>0.002583</td>\n",
              "      <td>0.002583</td>\n",
              "      <td>2.162196e+26</td>\n",
              "      <td>-2.965015</td>\n",
              "      <td>-24644.261342</td>\n",
              "      <td>35.505899</td>\n",
              "    </tr>\n",
              "    <tr>\n",
              "      <th>2</th>\n",
              "      <td>1000284067810009861</td>\n",
              "      <td>33</td>\n",
              "      <td>2.239853e+12</td>\n",
              "      <td>2239769672380</td>\n",
              "      <td>144</td>\n",
              "      <td>3</td>\n",
              "      <td>3170</td>\n",
              "      <td>204</td>\n",
              "      <td>3</td>\n",
              "      <td>1</td>\n",
              "      <td>3</td>\n",
              "      <td>3021</td>\n",
              "      <td>130</td>\n",
              "      <td>0</td>\n",
              "      <td>1</td>\n",
              "      <td>4</td>\n",
              "      <td>1798</td>\n",
              "      <td>228</td>\n",
              "      <td>228</td>\n",
              "      <td>1</td>\n",
              "      <td>0.003025</td>\n",
              "      <td>0.003025</td>\n",
              "      <td>1.388748e+12</td>\n",
              "      <td>-2.892670</td>\n",
              "      <td>-1.378142</td>\n",
              "      <td>33.313241</td>\n",
              "    </tr>\n",
              "    <tr>\n",
              "      <th>3</th>\n",
              "      <td>1000284067810012939</td>\n",
              "      <td>43</td>\n",
              "      <td>2.457868e+13</td>\n",
              "      <td>24578661100030</td>\n",
              "      <td>144</td>\n",
              "      <td>3</td>\n",
              "      <td>3617</td>\n",
              "      <td>249</td>\n",
              "      <td>2</td>\n",
              "      <td>1</td>\n",
              "      <td>3</td>\n",
              "      <td>2897</td>\n",
              "      <td>256</td>\n",
              "      <td>0</td>\n",
              "      <td>1</td>\n",
              "      <td>2</td>\n",
              "      <td>540</td>\n",
              "      <td>80</td>\n",
              "      <td>80</td>\n",
              "      <td>1</td>\n",
              "      <td>0.007102</td>\n",
              "      <td>0.000000</td>\n",
              "      <td>1.633505e+11</td>\n",
              "      <td>-2.715858</td>\n",
              "      <td>-1.826516</td>\n",
              "      <td>38.394626</td>\n",
              "    </tr>\n",
              "    <tr>\n",
              "      <th>4</th>\n",
              "      <td>1000284067810012946</td>\n",
              "      <td>101</td>\n",
              "      <td>1.966744e+12</td>\n",
              "      <td>2238910138380</td>\n",
              "      <td>144</td>\n",
              "      <td>3</td>\n",
              "      <td>1353</td>\n",
              "      <td>234</td>\n",
              "      <td>2</td>\n",
              "      <td>1</td>\n",
              "      <td>3</td>\n",
              "      <td>3755</td>\n",
              "      <td>370</td>\n",
              "      <td>0</td>\n",
              "      <td>1</td>\n",
              "      <td>2</td>\n",
              "      <td>1778</td>\n",
              "      <td>228</td>\n",
              "      <td>107</td>\n",
              "      <td>1</td>\n",
              "      <td>0.013467</td>\n",
              "      <td>0.012120</td>\n",
              "      <td>7.579847e+12</td>\n",
              "      <td>-2.750907</td>\n",
              "      <td>-1.379551</td>\n",
              "      <td>38.332642</td>\n",
              "    </tr>\n",
              "  </tbody>\n",
              "</table>\n",
              "</div>"
            ],
            "text/plain": [
              "               CALL_ID  ...  HBOSoutlierscore\n",
              "0  1000284067810009984  ...         45.640886\n",
              "1  1000284067810012912  ...         35.505899\n",
              "2  1000284067810009861  ...         33.313241\n",
              "3  1000284067810012939  ...         38.394626\n",
              "4  1000284067810012946  ...         38.332642\n",
              "\n",
              "[5 rows x 26 columns]"
            ]
          },
          "metadata": {
            "tags": []
          },
          "execution_count": 101
        }
      ]
    },
    {
      "cell_type": "markdown",
      "metadata": {
        "id": "JIhHi2tX2exo",
        "colab_type": "text"
      },
      "source": [
        ""
      ]
    },
    {
      "cell_type": "code",
      "metadata": {
        "id": "M5tSjlz0awHk",
        "colab_type": "code",
        "colab": {}
      },
      "source": [
        "#now we can take the scores to detect outliers "
      ],
      "execution_count": 0,
      "outputs": []
    },
    {
      "cell_type": "code",
      "metadata": {
        "id": "vEuExbvN2U4I",
        "colab_type": "code",
        "colab": {
          "base_uri": "https://localhost:8080/",
          "height": 34
        },
        "outputId": "f7f877c9-a73a-492a-f1ae-1376e5d301e7"
      },
      "source": [
        "#lets take an example of outliers\n",
        "data.CALLED_NUMBER_NOR.max()"
      ],
      "execution_count": 119,
      "outputs": [
        {
          "output_type": "execute_result",
          "data": {
            "text/plain": [
              "16336966966678749184"
            ]
          },
          "metadata": {
            "tags": []
          },
          "execution_count": 119
        }
      ]
    },
    {
      "cell_type": "code",
      "metadata": {
        "id": "Me4bm8Iq2GiX",
        "colab_type": "code",
        "colab": {
          "base_uri": "https://localhost:8080/",
          "height": 100
        },
        "outputId": "5debfabf-9707-4f40-8fd5-f6dc7a7e0c5d"
      },
      "source": [
        "#lets see our scores here\n",
        "data[data[\"CALL_DURATION_SEC\"]==data.CALL_DURATION_SEC.max()]"
      ],
      "execution_count": 121,
      "outputs": [
        {
          "output_type": "execute_result",
          "data": {
            "text/html": [
              "<div>\n",
              "<style scoped>\n",
              "    .dataframe tbody tr th:only-of-type {\n",
              "        vertical-align: middle;\n",
              "    }\n",
              "\n",
              "    .dataframe tbody tr th {\n",
              "        vertical-align: top;\n",
              "    }\n",
              "\n",
              "    .dataframe thead th {\n",
              "        text-align: right;\n",
              "    }\n",
              "</style>\n",
              "<table border=\"1\" class=\"dataframe\">\n",
              "  <thead>\n",
              "    <tr style=\"text-align: right;\">\n",
              "      <th></th>\n",
              "      <th>CALL_ID</th>\n",
              "      <th>CALL_DURATION_SEC</th>\n",
              "      <th>CALLING_NUMBER_NOR</th>\n",
              "      <th>CALLED_NUMBER_NOR</th>\n",
              "      <th>RELEASE_CALSE_ID</th>\n",
              "      <th>IN_SWITCH_ID</th>\n",
              "      <th>IN_TRUNK_ID</th>\n",
              "      <th>IN_ACCOUNT_ID</th>\n",
              "      <th>IN_SERVICE_LEVEL_ID</th>\n",
              "      <th>IN_SERVICE_ID</th>\n",
              "      <th>OUT_SWITCH_ID</th>\n",
              "      <th>OUT_TRUNK_ID</th>\n",
              "      <th>OUT_ACCOUNT_ID</th>\n",
              "      <th>OUT_SERVICE_LEVEL_ID</th>\n",
              "      <th>OUT_SERVICE_ID</th>\n",
              "      <th>ROUTING_CLASS_ID</th>\n",
              "      <th>ROUTING_DESTINATION_ID</th>\n",
              "      <th>ROUTING_COUNTRY_ID</th>\n",
              "      <th>ORIG_COUNTRY_ID</th>\n",
              "      <th>ANSWERED</th>\n",
              "      <th>COST</th>\n",
              "      <th>REVENUE</th>\n",
              "      <th>ABODoutlierscore</th>\n",
              "      <th>CBLOF_outlierscore</th>\n",
              "      <th>Feature_Baggingoutlierscore</th>\n",
              "      <th>HBOSoutlierscore</th>\n",
              "    </tr>\n",
              "  </thead>\n",
              "  <tbody>\n",
              "    <tr>\n",
              "      <th>6074</th>\n",
              "      <td>1000284082110001549</td>\n",
              "      <td>9010</td>\n",
              "      <td>1.969474e+12</td>\n",
              "      <td>24586005615065</td>\n",
              "      <td>144</td>\n",
              "      <td>3</td>\n",
              "      <td>1391</td>\n",
              "      <td>234</td>\n",
              "      <td>2</td>\n",
              "      <td>1</td>\n",
              "      <td>3</td>\n",
              "      <td>3946</td>\n",
              "      <td>114</td>\n",
              "      <td>0</td>\n",
              "      <td>1</td>\n",
              "      <td>2</td>\n",
              "      <td>546</td>\n",
              "      <td>80</td>\n",
              "      <td>107</td>\n",
              "      <td>1</td>\n",
              "      <td>1.471633</td>\n",
              "      <td>1.426583</td>\n",
              "      <td>6.17381</td>\n",
              "      <td>-1.962856</td>\n",
              "      <td>-1.288763</td>\n",
              "      <td>9.775758</td>\n",
              "    </tr>\n",
              "  </tbody>\n",
              "</table>\n",
              "</div>"
            ],
            "text/plain": [
              "                  CALL_ID  ...  HBOSoutlierscore\n",
              "6074  1000284082110001549  ...          9.775758\n",
              "\n",
              "[1 rows x 26 columns]"
            ]
          },
          "metadata": {
            "tags": []
          },
          "execution_count": 121
        }
      ]
    },
    {
      "cell_type": "code",
      "metadata": {
        "id": "KnC_nwtj26HA",
        "colab_type": "code",
        "colab": {
          "base_uri": "https://localhost:8080/",
          "height": 34
        },
        "outputId": "4a17b323-3c0f-4525-be4e-4d30174e1e69"
      },
      "source": [
        "data[\"ABODoutlierscore\"].quantile(.98)"
      ],
      "execution_count": 122,
      "outputs": [
        {
          "output_type": "execute_result",
          "data": {
            "text/plain": [
              "4.895579601106817e+38"
            ]
          },
          "metadata": {
            "tags": []
          },
          "execution_count": 122
        }
      ]
    },
    {
      "cell_type": "code",
      "metadata": {
        "id": "x6-vVFBt3B1Y",
        "colab_type": "code",
        "colab": {
          "base_uri": "https://localhost:8080/",
          "height": 34
        },
        "outputId": "7f45f9f6-5a1e-4b1e-f645-b078ed81466c"
      },
      "source": [
        "data[\"CBLOF_outlierscore\"].quantile(.98)"
      ],
      "execution_count": 123,
      "outputs": [
        {
          "output_type": "execute_result",
          "data": {
            "text/plain": [
              "-2.079759043367166"
            ]
          },
          "metadata": {
            "tags": []
          },
          "execution_count": 123
        }
      ]
    },
    {
      "cell_type": "code",
      "metadata": {
        "id": "ePEZpzqv2uAP",
        "colab_type": "code",
        "colab": {}
      },
      "source": [
        "#Our scores are in thier 95+ percentile in this observation \n",
        "#hence using these scores we can detect the outliers#"
      ],
      "execution_count": 0,
      "outputs": []
    }
  ]
}